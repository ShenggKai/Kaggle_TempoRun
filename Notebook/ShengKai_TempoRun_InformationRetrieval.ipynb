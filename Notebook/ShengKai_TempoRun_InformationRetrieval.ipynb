{
  "nbformat": 4,
  "nbformat_minor": 0,
  "metadata": {
    "colab": {
      "name": "ShengKai_TempoRun_InformationRetrieval.ipynb",
      "provenance": [],
      "toc_visible": true,
      "authorship_tag": "ABX9TyOf7SMWAO9skiTxzCj1OQaf",
      "include_colab_link": true
    },
    "kernelspec": {
      "name": "python3",
      "display_name": "Python 3"
    },
    "language_info": {
      "name": "python"
    }
  },
  "cells": [
    {
      "cell_type": "markdown",
      "metadata": {
        "id": "view-in-github",
        "colab_type": "text"
      },
      "source": [
        "<a href=\"https://colab.research.google.com/github/ShenggKai/kaggle_TempoRun/blob/master/Notebook/ShengKai_TempoRun_InformationRetrieval.ipynb\" target=\"_parent\"><img src=\"https://colab.research.google.com/assets/colab-badge.svg\" alt=\"Open In Colab\"/></a>"
      ]
    },
    {
      "cell_type": "markdown",
      "source": [
        "<center>\n",
        "<img src=\"https://i.imgur.com/MZQ1o3n.png\" alt=\"winer\"/>\n",
        "</center>"
      ],
      "metadata": {
        "id": "kFJVrc51zyPK"
      }
    },
    {
      "cell_type": "markdown",
      "source": [
        "[[AI TEMPO RUN] Retrieval of Song Lyrics](https://www.kaggle.com/c/temporun-retrieval-of-song-lyrics/)"
      ],
      "metadata": {
        "id": "0NHZv3zm5Ls4"
      }
    },
    {
      "cell_type": "markdown",
      "source": [
        "# My team"
      ],
      "metadata": {
        "id": "djtoRtkY55PO"
      }
    },
    {
      "cell_type": "markdown",
      "source": [
        "* ✈ Name: Meowmeow  \n",
        "* 🕶 Team members: Nguyễn Quốc Đạt - [ShengKaii](https://www.kaggle.com/shengkaii)"
      ],
      "metadata": {
        "id": "RYF6P4IX57TW"
      }
    },
    {
      "cell_type": "markdown",
      "source": [
        "# Setup"
      ],
      "metadata": {
        "id": "lFoZFKUZ0C77"
      }
    },
    {
      "cell_type": "markdown",
      "source": [
        "## Install the Kaggle library"
      ],
      "metadata": {
        "id": "dwHM82bb0H-q"
      }
    },
    {
      "cell_type": "code",
      "source": [
        "!pip install kaggle"
      ],
      "metadata": {
        "colab": {
          "base_uri": "https://localhost:8080/"
        },
        "id": "16h6Z8mw0eOv",
        "outputId": "f6bd2512-2d22-4857-b60b-cbd1bba473a9"
      },
      "execution_count": null,
      "outputs": [
        {
          "output_type": "stream",
          "name": "stdout",
          "text": [
            "Requirement already satisfied: kaggle in /usr/local/lib/python3.7/dist-packages (1.5.12)\n",
            "Requirement already satisfied: python-dateutil in /usr/local/lib/python3.7/dist-packages (from kaggle) (2.8.2)\n",
            "Requirement already satisfied: urllib3 in /usr/local/lib/python3.7/dist-packages (from kaggle) (1.24.3)\n",
            "Requirement already satisfied: six>=1.10 in /usr/local/lib/python3.7/dist-packages (from kaggle) (1.15.0)\n",
            "Requirement already satisfied: python-slugify in /usr/local/lib/python3.7/dist-packages (from kaggle) (6.1.1)\n",
            "Requirement already satisfied: certifi in /usr/local/lib/python3.7/dist-packages (from kaggle) (2021.10.8)\n",
            "Requirement already satisfied: requests in /usr/local/lib/python3.7/dist-packages (from kaggle) (2.23.0)\n",
            "Requirement already satisfied: tqdm in /usr/local/lib/python3.7/dist-packages (from kaggle) (4.63.0)\n",
            "Requirement already satisfied: text-unidecode>=1.3 in /usr/local/lib/python3.7/dist-packages (from python-slugify->kaggle) (1.3)\n",
            "Requirement already satisfied: idna<3,>=2.5 in /usr/local/lib/python3.7/dist-packages (from requests->kaggle) (2.10)\n",
            "Requirement already satisfied: chardet<4,>=3.0.2 in /usr/local/lib/python3.7/dist-packages (from requests->kaggle) (3.0.4)\n"
          ]
        }
      ]
    },
    {
      "cell_type": "markdown",
      "source": [
        "Download API Credentials "
      ],
      "metadata": {
        "id": "olDBqTMq2QoV"
      }
    },
    {
      "cell_type": "code",
      "source": [
        "!wget -O kaggle.json https://raw.githubusercontent.com/ShenggKai/kaggle_TempoRun/master/API_token/kaggle.json"
      ],
      "metadata": {
        "colab": {
          "base_uri": "https://localhost:8080/"
        },
        "id": "Zmw7HNCT2QWo",
        "outputId": "1b87b068-9ece-4876-8946-c4520804e332"
      },
      "execution_count": 25,
      "outputs": [
        {
          "output_type": "stream",
          "name": "stdout",
          "text": [
            "--2022-03-15 09:12:26--  https://raw.githubusercontent.com/ShenggKai/kaggle_TempoRun/master/API_token/kaggle.json\n",
            "Resolving raw.githubusercontent.com (raw.githubusercontent.com)... 185.199.108.133, 185.199.109.133, 185.199.110.133, ...\n",
            "Connecting to raw.githubusercontent.com (raw.githubusercontent.com)|185.199.108.133|:443... connected.\n",
            "HTTP request sent, awaiting response... 200 OK\n",
            "Length: 65 [text/plain]\n",
            "Saving to: ‘kaggle.json’\n",
            "\n",
            "kaggle.json         100%[===================>]      65  --.-KB/s    in 0s      \n",
            "\n",
            "2022-03-15 09:12:26 (2.14 MB/s) - ‘kaggle.json’ saved [65/65]\n",
            "\n"
          ]
        }
      ]
    },
    {
      "cell_type": "markdown",
      "source": [
        "## Install and import required library"
      ],
      "metadata": {
        "id": "vcEngfR35nrf"
      }
    },
    {
      "cell_type": "code",
      "source": [
        "!pip install rank-bm25"
      ],
      "metadata": {
        "colab": {
          "base_uri": "https://localhost:8080/"
        },
        "id": "1SzIM3Br7sjv",
        "outputId": "f1e3c1ee-cfbe-4355-8c17-c5be01fa60e6"
      },
      "execution_count": 35,
      "outputs": [
        {
          "output_type": "stream",
          "name": "stdout",
          "text": [
            "Collecting rank-bm25\n",
            "  Downloading rank_bm25-0.2.2-py3-none-any.whl (8.6 kB)\n",
            "Requirement already satisfied: numpy in /usr/local/lib/python3.7/dist-packages (from rank-bm25) (1.21.5)\n",
            "Installing collected packages: rank-bm25\n",
            "Successfully installed rank-bm25-0.2.2\n"
          ]
        }
      ]
    },
    {
      "cell_type": "code",
      "source": [
        "!pip install -q tf-models-official==2.3.0"
      ],
      "metadata": {
        "colab": {
          "base_uri": "https://localhost:8080/"
        },
        "id": "Dpv73JFT7w4T",
        "outputId": "b1f18d41-c64b-4c18-dd39-9254ccd9c1fd"
      },
      "execution_count": 36,
      "outputs": [
        {
          "output_type": "stream",
          "name": "stdout",
          "text": [
            "\u001b[K     |████████████████████████████████| 840 kB 4.0 MB/s \n",
            "\u001b[K     |████████████████████████████████| 1.2 MB 50.7 MB/s \n",
            "\u001b[K     |████████████████████████████████| 234 kB 42.9 MB/s \n",
            "\u001b[K     |████████████████████████████████| 352 kB 46.3 MB/s \n",
            "\u001b[K     |████████████████████████████████| 47.8 MB 1.4 MB/s \n",
            "\u001b[K     |████████████████████████████████| 1.1 MB 52.7 MB/s \n",
            "\u001b[K     |████████████████████████████████| 99 kB 7.6 MB/s \n",
            "\u001b[K     |████████████████████████████████| 462 kB 56.8 MB/s \n",
            "\u001b[?25h  Building wheel for py-cpuinfo (setup.py) ... \u001b[?25l\u001b[?25hdone\n"
          ]
        }
      ]
    },
    {
      "cell_type": "code",
      "source": [
        "import os\n",
        "import pprint as pp\n",
        "import numpy as np\n",
        "import pandas as pd\n",
        "import json\n",
        "import tensorflow as tf \n",
        "from gensim.corpora import WikiCorpus\n",
        "from rank_bm25 import BM25Okapi, BM25Plus\n",
        "\n",
        "from official.modeling import tf_utils\n",
        "from official import nlp\n",
        "from official.nlp import bert\n",
        "\n",
        "# Load the required submodules\n",
        "import official.nlp.optimization\n",
        "import official.nlp.bert.bert_models\n",
        "import official.nlp.bert.configs\n",
        "import official.nlp.bert.run_classifier\n",
        "import official.nlp.bert.tokenization\n",
        "import official.nlp.data.classifier_data_lib\n",
        "import official.nlp.modeling.losses\n",
        "import official.nlp.modeling.models\n",
        "import official.nlp.modeling.networks\n",
        "\n",
        "from tqdm import tqdm"
      ],
      "metadata": {
        "id": "41QCVgRl77xc"
      },
      "execution_count": 38,
      "outputs": []
    },
    {
      "cell_type": "markdown",
      "source": [
        "## Kiểm tra thư mục"
      ],
      "metadata": {
        "id": "qorvfZws01GY"
      }
    },
    {
      "cell_type": "markdown",
      "source": [
        "[How to Load Kaggle Datasets Directly into Google Colab?](https://www.analyticsvidhya.com/blog/2021/06/how-to-load-kaggle-datasets-directly-into-google-colab/)"
      ],
      "metadata": {
        "id": "jSybpFOs3yOO"
      }
    },
    {
      "cell_type": "code",
      "source": [
        "print(\"Hien tai ta dang o thu muc:\")\n",
        "!pwd"
      ],
      "metadata": {
        "colab": {
          "base_uri": "https://localhost:8080/"
        },
        "id": "PeCWbNG203Gm",
        "outputId": "8e80cbe5-59ca-4b38-b6da-b44f6953ade1"
      },
      "execution_count": 27,
      "outputs": [
        {
          "output_type": "stream",
          "name": "stdout",
          "text": [
            "Hien tai ta dang o thu muc:\n",
            "/content\n"
          ]
        }
      ]
    },
    {
      "cell_type": "code",
      "source": [
        "ls"
      ],
      "metadata": {
        "id": "Ni5IJX-91U3g",
        "colab": {
          "base_uri": "https://localhost:8080/"
        },
        "outputId": "8488fc67-b13b-4888-c610-80ac227aed92"
      },
      "execution_count": 26,
      "outputs": [
        {
          "output_type": "stream",
          "name": "stdout",
          "text": [
            "kaggle.json  \u001b[0m\u001b[01;34msample_data\u001b[0m/\n"
          ]
        }
      ]
    },
    {
      "cell_type": "markdown",
      "source": [
        "Make a directory named “.kaggle”"
      ],
      "metadata": {
        "id": "gEFTG5d71LeI"
      }
    },
    {
      "cell_type": "code",
      "source": [
        "! mkdir ~/.kaggle"
      ],
      "metadata": {
        "id": "RGdMztWn1Djn",
        "colab": {
          "base_uri": "https://localhost:8080/"
        },
        "outputId": "e9c68eb2-e7ea-4123-f8c1-e3a222f8be32"
      },
      "execution_count": 28,
      "outputs": [
        {
          "output_type": "stream",
          "name": "stdout",
          "text": [
            "mkdir: cannot create directory ‘/root/.kaggle’: File exists\n"
          ]
        }
      ]
    },
    {
      "cell_type": "markdown",
      "source": [
        "Copy the “kaggle.json” into this new directory\n",
        "\n"
      ],
      "metadata": {
        "id": "kjDRCiCu2waZ"
      }
    },
    {
      "cell_type": "code",
      "source": [
        "! cp kaggle.json ~/.kaggle/"
      ],
      "metadata": {
        "id": "A9GoIdx_1Rpc"
      },
      "execution_count": 29,
      "outputs": []
    },
    {
      "cell_type": "markdown",
      "source": [
        "Allocate the required permission for this file."
      ],
      "metadata": {
        "id": "CKLc-PFy24Us"
      }
    },
    {
      "cell_type": "code",
      "source": [
        "! chmod 600 ~/.kaggle/kaggle.json"
      ],
      "metadata": {
        "id": "KGypYfac26CQ"
      },
      "execution_count": 30,
      "outputs": []
    },
    {
      "cell_type": "markdown",
      "source": [
        "# Download dataset"
      ],
      "metadata": {
        "id": "ZJqDeZoP4OGk"
      }
    },
    {
      "cell_type": "code",
      "source": [
        "# Kiem tra version\n",
        "!kaggle --version"
      ],
      "metadata": {
        "colab": {
          "base_uri": "https://localhost:8080/"
        },
        "id": "Tw-3uGyj4MoR",
        "outputId": "5c79da9e-78ea-42e6-dcb4-d9b4b263d1c0"
      },
      "execution_count": 33,
      "outputs": [
        {
          "output_type": "stream",
          "name": "stdout",
          "text": [
            "Kaggle API 1.5.12\n"
          ]
        }
      ]
    },
    {
      "cell_type": "code",
      "source": [
        "!kaggle competitions download -c temporun-retrieval-of-song-lyrics"
      ],
      "metadata": {
        "colab": {
          "base_uri": "https://localhost:8080/"
        },
        "id": "5H7rGGoX4g16",
        "outputId": "d08857ef-1b7d-4a87-a9dd-179751288531"
      },
      "execution_count": 32,
      "outputs": [
        {
          "output_type": "stream",
          "name": "stdout",
          "text": [
            "Downloading temporun-retrieval-of-song-lyrics.zip to /content\n",
            "\r  0% 0.00/1.35M [00:00<?, ?B/s]\n",
            "\r100% 1.35M/1.35M [00:00<00:00, 111MB/s]\n"
          ]
        }
      ]
    },
    {
      "cell_type": "markdown",
      "source": [
        "Bởi vì file tải về có dạng zip nên phải giải nén file"
      ],
      "metadata": {
        "id": "NhEhi_tV6_G2"
      }
    },
    {
      "cell_type": "code",
      "source": [
        "!unzip /content/temporun-retrieval-of-song-lyrics.zip"
      ],
      "metadata": {
        "colab": {
          "base_uri": "https://localhost:8080/"
        },
        "id": "NAxbY1gN7Epl",
        "outputId": "1be15509-fd98-418b-a78b-26e304c8d5e1"
      },
      "execution_count": 34,
      "outputs": [
        {
          "output_type": "stream",
          "name": "stdout",
          "text": [
            "Archive:  /content/temporun-retrieval-of-song-lyrics.zip\n",
            "  inflating: 2335_Songs.json         \n",
            "  inflating: 500_queries.json        \n",
            "  inflating: sample_submission.csv   \n"
          ]
        }
      ]
    },
    {
      "cell_type": "markdown",
      "source": [
        "# Preliminaries & Corpus Creation"
      ],
      "metadata": {
        "id": "KYlxMYMs9Az-"
      }
    },
    {
      "cell_type": "code",
      "source": [
        "df = pd.read_json (r'/content/2335_Songs.json')\n",
        "df.to_csv (r'/content/sample_data/data.csv', index = None)"
      ],
      "metadata": {
        "id": "OskwI5eW9nGl"
      },
      "execution_count": 43,
      "outputs": []
    },
    {
      "cell_type": "code",
      "source": [
        "df[\"song_id\"].head(100)"
      ],
      "metadata": {
        "colab": {
          "base_uri": "https://localhost:8080/"
        },
        "id": "ueaIGZ5j9rEb",
        "outputId": "99fb0d40-f57c-40a8-ade6-1cd9ec93ced5"
      },
      "execution_count": 44,
      "outputs": [
        {
          "output_type": "execute_result",
          "data": {
            "text/plain": [
              "0       0\n",
              "1       1\n",
              "2       2\n",
              "3       3\n",
              "4       4\n",
              "     ... \n",
              "95    155\n",
              "96    156\n",
              "97    157\n",
              "98    158\n",
              "99    159\n",
              "Name: song_id, Length: 100, dtype: int64"
            ]
          },
          "metadata": {},
          "execution_count": 44
        }
      ]
    },
    {
      "cell_type": "code",
      "source": [
        "CORPUS_SONG_JSON = \"2335_Songs.json\"\n",
        "QUERIES_JSON = \"500_queries.json\""
      ],
      "metadata": {
        "id": "1eoyzUyf9CBO"
      },
      "execution_count": 39,
      "outputs": []
    },
    {
      "cell_type": "code",
      "source": [
        "with open(CORPUS_SONG_JSON, 'r', encoding='utf-8') as fo:\n",
        "  corpus_data = json.load(fo)\n",
        "\n",
        "with open(QUERIES_JSON, 'r', encoding='utf-8') as fo:\n",
        "  queries_test = json.load(fo)"
      ],
      "metadata": {
        "id": "730ni9Uh9PxX"
      },
      "execution_count": 41,
      "outputs": []
    },
    {
      "cell_type": "code",
      "source": [
        "type(corpus_data)"
      ],
      "metadata": {
        "colab": {
          "base_uri": "https://localhost:8080/"
        },
        "id": "wyrbwfrB9LUB",
        "outputId": "0a682a51-1397-4325-f3f8-68dab1ec49c9"
      },
      "execution_count": 42,
      "outputs": [
        {
          "output_type": "execute_result",
          "data": {
            "text/plain": [
              "list"
            ]
          },
          "metadata": {},
          "execution_count": 42
        }
      ]
    },
    {
      "cell_type": "code",
      "source": [
        "print(corpus_data[76])"
      ],
      "metadata": {
        "colab": {
          "base_uri": "https://localhost:8080/"
        },
        "id": "D-0cM_wD9wbG",
        "outputId": "eff4348b-a4bd-45ea-919a-d2b34dbba55e"
      },
      "execution_count": 45,
      "outputs": [
        {
          "output_type": "stream",
          "name": "stdout",
          "text": [
            "{'author': 'Phúc Bồ', 'title': 'Ngắm Trăng', 'lyrics': 'Chỉ có anh với những nốt nhạc vang lên trong màn đen đêm buồn\\nThời gian làm ta lặng im tựa như cây lá bên đường\\nCô đơn phải chăng là mẫu đàn ông em muốn\\nHình như là mặt trăng cũng có đôi tai\\nNgồi im và nghe anh hát\\nSống trong giai điệu như là Maroon 5\\nVang lên những ngày xanh mát\\nVà anh đang ngồi đây như 1 nhà thơ nào đó cứ đòi bán ánh trăng đi\\nvà đã lỡ yêu quá nhiều,\\ntâm hồn như là 1 cõi để cho gió cuốn phăng đi,\\ntâm trạng rối bời như lời nhạc của Yanbi\\nNow im singing with the moonlight\\nChỉ là bữa tiệc cùng cô đơn vào thường ngày\\nIm drinking with the late night\\nĐể được nói hết không cần biết đúng hay sai\\nMột giấc mơ đẹp có thể nằm trên sofa\\nMột cơn ác mộng khi em hỏi về cô ta\\nMột chuyện tình đẹp không mang đến sự vĩnh cửu\\nNhưng ai cũng nhớ về tiếng đàn của Lorca\\nLời ca anh đang hòa vào không trung cùng những ánh sao trên trời.\\nMang giấc mơ anh trở về nơi mà hai ta luôn chờ đợi\\nĐưa ánh trăng đi tìm từng hơi thở em vướng trong\\nkhúc nhạc em chưa từng nghe được nơi chân trời mới\\nNow i have nothing to lose, im getting over you\\nGuess i figured it out how was i like a fool\\nGiờ anh chỉ như là dòng thời gian từng giây đếm qua để được\\nôm ấp cùng với ánh trăng đến trời sáng\\nNgắm trăng, mang tiếng ca anh đến với nơi phiêu bồng\\nNgắm trăng, tình đôi ta như chiếc phao trôi ngoài cơn sóng\\nNgắm trăng, khiến cô đơn cũng trở nên xiêu lòng Ngắm trăng,\\nmy tears just falling down with out alone\\nVầng trăng chiếu soi ngả đường\\nNửa đêm bỗng thấy nhớ và thương\\nMột mình dạo bước đi lang thang ..... mình ta\\nTrôi theo suy tư bơ vơ miên man kiếm tìm .....một hình bóng Đã khắc khi sâu ở nơi những tháng năm\\nĐôi ta bắt đầu\\nPhút ướt mi em đã quay lưng đi rồi một mình chôn giấu Trách anh quá hững hờ\\nChơi vơi trăng lên nơi đây đứng chờ\\nThu tàn gió ngàn mùa đông sang......\\nLời ca anh đang hòa vào không trung cùng những ánh sao trên trời.\\nMang giấc mơ anh trở về nơi mà hai ta luôn chờ đợi\\nĐưa ánh trăng đi tìm từng hơi thở em vướng trong\\nkhúc nhạc em chưa từng nghe được nơi chân trời mới\\nNow i have nothing to lose, im getting over you\\nGuess i figured it out how was i like a fool\\nGiờ anh chỉ như là dòng thời gian từng giây đếm qua để được\\nôm ấp cùng với ánh trăng đến trời sáng\\nNgắm trăng, mang tiếng ca anh đến với nơi phiêu bồng\\nNgắm trăng, tình đôi ta như chiếc phao trôi ngoài cơn sóng\\nNgắm trăng, khiến cô đơn cũng trở nên xiêu lòng Ngắm trăng,\\nmy tears just falling down with out alone\\n \\n', 'song_id': '0126'}\n"
          ]
        }
      ]
    }
  ]
}