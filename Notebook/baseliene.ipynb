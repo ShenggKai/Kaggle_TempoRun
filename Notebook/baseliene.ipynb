{
  "cells": [
    {
      "cell_type": "markdown",
      "metadata": {
        "id": "view-in-github",
        "colab_type": "text"
      },
      "source": [
        "<a href=\"https://colab.research.google.com/github/ShenggKai/Kaggle_TempoRun/blob/master/Notebook/baseliene.ipynb\" target=\"_parent\"><img src=\"https://colab.research.google.com/assets/colab-badge.svg\" alt=\"Open In Colab\"/></a>"
      ]
    },
    {
      "cell_type": "markdown",
      "id": "dee58c19",
      "metadata": {
        "id": "dee58c19",
        "papermill": {
          "duration": 0.015689,
          "end_time": "2022-03-14T14:06:02.650047",
          "exception": false,
          "start_time": "2022-03-14T14:06:02.634358",
          "status": "completed"
        },
        "tags": []
      },
      "source": [
        "link colab: https://colab.research.google.com/drive/1W2FUkT9pLFhHBbuorcmRSII_5z9r3xAu?usp=sharing"
      ]
    },
    {
      "cell_type": "markdown",
      "id": "efb1fd3d",
      "metadata": {
        "papermill": {
          "duration": 0.013939,
          "end_time": "2022-03-14T14:06:02.678390",
          "exception": false,
          "start_time": "2022-03-14T14:06:02.664451",
          "status": "completed"
        },
        "tags": [],
        "id": "efb1fd3d"
      },
      "source": [
        "# Download data"
      ]
    },
    {
      "cell_type": "code",
      "execution_count": null,
      "id": "5f6b6962",
      "metadata": {
        "execution": {
          "iopub.execute_input": "2022-03-14T14:06:02.715502Z",
          "iopub.status.busy": "2022-03-14T14:06:02.714909Z",
          "iopub.status.idle": "2022-03-14T14:06:02.717984Z",
          "shell.execute_reply": "2022-03-14T14:06:02.718531Z",
          "shell.execute_reply.started": "2022-03-14T13:57:22.293034Z"
        },
        "id": "5f6b6962",
        "papermill": {
          "duration": 0.025438,
          "end_time": "2022-03-14T14:06:02.718842",
          "exception": false,
          "start_time": "2022-03-14T14:06:02.693404",
          "status": "completed"
        },
        "tags": []
      },
      "outputs": [],
      "source": [
        "import json\n",
        "# lưu ý trên Kaggle có sẵn data nên mình chỉ cần dẫn link vào\n",
        "# #Download lyrics\n",
        "# !gdown --id 1V7WxGaVv3UamD4AM5qnqDNzkBSw6paQy\n",
        "# #Download queries\n",
        "# !gdown --id 1srNAjKMTncZUgxDTZZHfMnTbPd9ic2xx"
      ]
    },
    {
      "cell_type": "markdown",
      "id": "2411d800",
      "metadata": {
        "id": "2411d800",
        "papermill": {
          "duration": 0.013849,
          "end_time": "2022-03-14T14:06:02.747795",
          "exception": false,
          "start_time": "2022-03-14T14:06:02.733946",
          "status": "completed"
        },
        "tags": []
      },
      "source": [
        "# Preliminaries & Corpus Creation"
      ]
    },
    {
      "cell_type": "code",
      "execution_count": null,
      "id": "d3f811f7",
      "metadata": {
        "execution": {
          "iopub.execute_input": "2022-03-14T14:06:02.780178Z",
          "iopub.status.busy": "2022-03-14T14:06:02.779511Z",
          "iopub.status.idle": "2022-03-14T14:06:12.833354Z",
          "shell.execute_reply": "2022-03-14T14:06:12.832581Z",
          "shell.execute_reply.started": "2022-03-14T13:57:22.325623Z"
        },
        "id": "d3f811f7",
        "outputId": "26a37a2f-fbd0-423a-f3ce-82046fb930e0",
        "papermill": {
          "duration": 10.071307,
          "end_time": "2022-03-14T14:06:12.833505",
          "exception": false,
          "start_time": "2022-03-14T14:06:02.762198",
          "status": "completed"
        },
        "tags": [],
        "colab": {
          "base_uri": "https://localhost:8080/"
        }
      },
      "outputs": [
        {
          "output_type": "stream",
          "name": "stdout",
          "text": [
            "Collecting rank-bm25\n",
            "  Downloading rank_bm25-0.2.2-py3-none-any.whl (8.6 kB)\n",
            "Requirement already satisfied: numpy in /usr/local/lib/python3.7/dist-packages (from rank-bm25) (1.21.5)\n",
            "Installing collected packages: rank-bm25\n",
            "Successfully installed rank-bm25-0.2.2\n"
          ]
        }
      ],
      "source": [
        "# Install required libraries\n",
        "!pip install rank-bm25"
      ]
    },
    {
      "cell_type": "code",
      "execution_count": null,
      "id": "38d1a666",
      "metadata": {
        "execution": {
          "iopub.execute_input": "2022-03-14T14:06:12.876340Z",
          "iopub.status.busy": "2022-03-14T14:06:12.871534Z",
          "iopub.status.idle": "2022-03-14T14:06:48.821879Z",
          "shell.execute_reply": "2022-03-14T14:06:48.821224Z",
          "shell.execute_reply.started": "2022-03-14T13:57:33.130190Z"
        },
        "id": "38d1a666",
        "outputId": "953e39ee-693e-4723-8777-b5303fee9b8d",
        "papermill": {
          "duration": 35.972077,
          "end_time": "2022-03-14T14:06:48.822023",
          "exception": false,
          "start_time": "2022-03-14T14:06:12.849946",
          "status": "completed"
        },
        "tags": [],
        "colab": {
          "base_uri": "https://localhost:8080/"
        }
      },
      "outputs": [
        {
          "output_type": "stream",
          "name": "stdout",
          "text": [
            "\u001b[K     |████████████████████████████████| 840 kB 2.7 MB/s \n",
            "\u001b[K     |████████████████████████████████| 352 kB 61.4 MB/s \n",
            "\u001b[K     |████████████████████████████████| 234 kB 53.4 MB/s \n",
            "\u001b[K     |████████████████████████████████| 99 kB 9.1 MB/s \n",
            "\u001b[K     |████████████████████████████████| 47.8 MB 2.4 MB/s \n",
            "\u001b[K     |████████████████████████████████| 1.2 MB 44.9 MB/s \n",
            "\u001b[K     |████████████████████████████████| 1.1 MB 14.9 MB/s \n",
            "\u001b[K     |████████████████████████████████| 462 kB 49.6 MB/s \n",
            "\u001b[?25h  Building wheel for py-cpuinfo (setup.py) ... \u001b[?25l\u001b[?25hdone\n"
          ]
        }
      ],
      "source": [
        "!pip install -q tf-models-official==2.3.0"
      ]
    },
    {
      "cell_type": "code",
      "execution_count": null,
      "id": "4dfd2ba1",
      "metadata": {
        "execution": {
          "iopub.execute_input": "2022-03-14T14:06:48.862849Z",
          "iopub.status.busy": "2022-03-14T14:06:48.861895Z",
          "iopub.status.idle": "2022-03-14T14:06:57.246867Z",
          "shell.execute_reply": "2022-03-14T14:06:57.247386Z",
          "shell.execute_reply.started": "2022-03-14T13:58:09.844796Z"
        },
        "id": "4dfd2ba1",
        "papermill": {
          "duration": 8.409284,
          "end_time": "2022-03-14T14:06:57.247556",
          "exception": false,
          "start_time": "2022-03-14T14:06:48.838272",
          "status": "completed"
        },
        "tags": []
      },
      "outputs": [],
      "source": [
        "# Import required libraries\n",
        "import os\n",
        "import pprint as pp\n",
        "import numpy as np\n",
        "import json\n",
        "import tensorflow as tf \n",
        "from gensim.corpora import WikiCorpus\n",
        "from rank_bm25 import BM25Okapi, BM25Plus\n",
        "\n",
        "from official.modeling import tf_utils\n",
        "from official import nlp\n",
        "from official.nlp import bert\n",
        "\n",
        "# Load the required submodules\n",
        "import official.nlp.optimization\n",
        "import official.nlp.bert.bert_models\n",
        "import official.nlp.bert.configs\n",
        "import official.nlp.bert.run_classifier\n",
        "import official.nlp.bert.tokenization\n",
        "import official.nlp.data.classifier_data_lib\n",
        "import official.nlp.modeling.losses\n",
        "import official.nlp.modeling.models\n",
        "import official.nlp.modeling.networks"
      ]
    },
    {
      "cell_type": "code",
      "execution_count": null,
      "id": "85670a9b",
      "metadata": {
        "execution": {
          "iopub.execute_input": "2022-03-14T14:06:57.285139Z",
          "iopub.status.busy": "2022-03-14T14:06:57.284159Z",
          "iopub.status.idle": "2022-03-14T14:06:57.287832Z",
          "shell.execute_reply": "2022-03-14T14:06:57.288253Z",
          "shell.execute_reply.started": "2022-03-14T13:58:17.924534Z"
        },
        "id": "85670a9b",
        "papermill": {
          "duration": 0.024256,
          "end_time": "2022-03-14T14:06:57.288424",
          "exception": false,
          "start_time": "2022-03-14T14:06:57.264168",
          "status": "completed"
        },
        "tags": []
      },
      "outputs": [],
      "source": [
        "from tqdm import tqdm\n",
        "# link to data\n",
        "CORPUS_SONG_JSON = \"../input/temporun-retrieval-of-song-lyrics/2335_Songs.json\"\n",
        "QUERIES_JSON = \"../input/temporun-retrieval-of-song-lyrics/500_queries.json\""
      ]
    },
    {
      "cell_type": "code",
      "execution_count": null,
      "id": "1a607fb5",
      "metadata": {
        "execution": {
          "iopub.execute_input": "2022-03-14T14:06:57.326375Z",
          "iopub.status.busy": "2022-03-14T14:06:57.325445Z",
          "iopub.status.idle": "2022-03-14T14:06:57.471320Z",
          "shell.execute_reply": "2022-03-14T14:06:57.471790Z",
          "shell.execute_reply.started": "2022-03-14T13:58:17.930156Z"
        },
        "id": "1a607fb5",
        "papermill": {
          "duration": 0.165913,
          "end_time": "2022-03-14T14:06:57.471974",
          "exception": false,
          "start_time": "2022-03-14T14:06:57.306061",
          "status": "completed"
        },
        "tags": [],
        "colab": {
          "base_uri": "https://localhost:8080/",
          "height": 242
        },
        "outputId": "065b5f33-fbfe-4255-e9b5-8e5bf607b73d"
      },
      "outputs": [
        {
          "output_type": "error",
          "ename": "FileNotFoundError",
          "evalue": "ignored",
          "traceback": [
            "\u001b[0;31m---------------------------------------------------------------------------\u001b[0m",
            "\u001b[0;31mFileNotFoundError\u001b[0m                         Traceback (most recent call last)",
            "\u001b[0;32m<ipython-input-6-0ad8455ed660>\u001b[0m in \u001b[0;36m<module>\u001b[0;34m()\u001b[0m\n\u001b[0;32m----> 1\u001b[0;31m \u001b[0;32mwith\u001b[0m \u001b[0mopen\u001b[0m\u001b[0;34m(\u001b[0m\u001b[0mCORPUS_SONG_JSON\u001b[0m\u001b[0;34m,\u001b[0m \u001b[0;34m'r'\u001b[0m\u001b[0;34m,\u001b[0m \u001b[0mencoding\u001b[0m\u001b[0;34m=\u001b[0m\u001b[0;34m'utf-8'\u001b[0m\u001b[0;34m)\u001b[0m \u001b[0;32mas\u001b[0m \u001b[0mfo\u001b[0m\u001b[0;34m:\u001b[0m\u001b[0;34m\u001b[0m\u001b[0;34m\u001b[0m\u001b[0m\n\u001b[0m\u001b[1;32m      2\u001b[0m   \u001b[0mcorpus_data\u001b[0m \u001b[0;34m=\u001b[0m \u001b[0mjson\u001b[0m\u001b[0;34m.\u001b[0m\u001b[0mload\u001b[0m\u001b[0;34m(\u001b[0m\u001b[0mfo\u001b[0m\u001b[0;34m)\u001b[0m\u001b[0;34m\u001b[0m\u001b[0;34m\u001b[0m\u001b[0m\n\u001b[1;32m      3\u001b[0m \u001b[0;34m\u001b[0m\u001b[0m\n\u001b[1;32m      4\u001b[0m \u001b[0;32mwith\u001b[0m \u001b[0mopen\u001b[0m\u001b[0;34m(\u001b[0m\u001b[0mQUERIES_JSON\u001b[0m\u001b[0;34m,\u001b[0m \u001b[0;34m'r'\u001b[0m\u001b[0;34m,\u001b[0m \u001b[0mencoding\u001b[0m\u001b[0;34m=\u001b[0m\u001b[0;34m'utf-8'\u001b[0m\u001b[0;34m)\u001b[0m \u001b[0;32mas\u001b[0m \u001b[0mfo\u001b[0m\u001b[0;34m:\u001b[0m\u001b[0;34m\u001b[0m\u001b[0;34m\u001b[0m\u001b[0m\n\u001b[1;32m      5\u001b[0m   \u001b[0mqueries_test\u001b[0m \u001b[0;34m=\u001b[0m \u001b[0mjson\u001b[0m\u001b[0;34m.\u001b[0m\u001b[0mload\u001b[0m\u001b[0;34m(\u001b[0m\u001b[0mfo\u001b[0m\u001b[0;34m)\u001b[0m\u001b[0;34m\u001b[0m\u001b[0;34m\u001b[0m\u001b[0m\n",
            "\u001b[0;31mFileNotFoundError\u001b[0m: [Errno 2] No such file or directory: '../input/temporun-retrieval-of-song-lyrics/2335_Songs.json'"
          ]
        }
      ],
      "source": [
        "with open(CORPUS_SONG_JSON, 'r', encoding='utf-8') as fo:\n",
        "  corpus_data = json.load(fo)\n",
        "\n",
        "with open(QUERIES_JSON, 'r', encoding='utf-8') as fo:\n",
        "  queries_test = json.load(fo)"
      ]
    },
    {
      "cell_type": "code",
      "execution_count": null,
      "id": "9d28275d",
      "metadata": {
        "execution": {
          "iopub.execute_input": "2022-03-14T14:06:57.509440Z",
          "iopub.status.busy": "2022-03-14T14:06:57.508492Z",
          "iopub.status.idle": "2022-03-14T14:06:57.514695Z",
          "shell.execute_reply": "2022-03-14T14:06:57.515219Z",
          "shell.execute_reply.started": "2022-03-14T13:58:18.174010Z"
        },
        "id": "9d28275d",
        "papermill": {
          "duration": 0.026178,
          "end_time": "2022-03-14T14:06:57.515385",
          "exception": false,
          "start_time": "2022-03-14T14:06:57.489207",
          "status": "completed"
        },
        "tags": []
      },
      "outputs": [],
      "source": [
        "def read_corpus(corpus_data):\n",
        "    \"\"\"\n",
        "    Function that iteratively reads the saved articles from the corpus directory\n",
        "    and appends the text to a list.\n",
        "    \n",
        "    Parameters\n",
        "    ----------\n",
        "    @param corpus_directory: str,\n",
        "        A valid string specifying the path to the local directory in which the \n",
        "        files were saved using make_corpus().\n",
        "        \n",
        "    Returns\n",
        "    -------\n",
        "    @return corpus, list\n",
        "        A list containing the text of an article in each element.\n",
        "    \"\"\"\n",
        "    \n",
        "    # Initialize empty corpus list\n",
        "    corpus = []\n",
        "    \n",
        "    # For each file in the corpus directory, do...\n",
        "    print(\"Reading local corpus, please wait...\")\n",
        "\n",
        "    for song in corpus_data:\n",
        "      if song[\"lyrics\"].split(\"\\n\")[0].startswith(\"Bài hát: \"):\n",
        "          lyric = \"\\n\".join(song[\"lyrics\"].split(\"\\n\")[1:])\n",
        "      else:\n",
        "          lyric = song[\"lyrics\"]\n",
        "      corpus.append([song[\"song_id\"], lyric])\n",
        "        \n",
        "    # Done, return\n",
        "    print(\"Done!\")\n",
        "    return corpus"
      ]
    },
    {
      "cell_type": "code",
      "execution_count": null,
      "id": "eb1e7785",
      "metadata": {
        "execution": {
          "iopub.execute_input": "2022-03-14T14:06:57.552888Z",
          "iopub.status.busy": "2022-03-14T14:06:57.551964Z",
          "iopub.status.idle": "2022-03-14T14:06:57.578236Z",
          "shell.execute_reply": "2022-03-14T14:06:57.578714Z",
          "shell.execute_reply.started": "2022-03-14T13:58:18.183214Z"
        },
        "id": "eb1e7785",
        "outputId": "bedd5fb8-f196-43ce-8cd3-d8d4d602e255",
        "papermill": {
          "duration": 0.045629,
          "end_time": "2022-03-14T14:06:57.578880",
          "exception": false,
          "start_time": "2022-03-14T14:06:57.533251",
          "status": "completed"
        },
        "tags": []
      },
      "outputs": [
        {
          "name": "stdout",
          "output_type": "stream",
          "text": [
            "Reading local corpus, please wait...\n",
            "Done!\n"
          ]
        },
        {
          "data": {
            "text/plain": [
              "['0002',\n",
              " 'Đoạn buồn cho tôi biết mấy\\nNgười tình rời xa tôi khuất bóng\\nBiết cô đơn dâng ngập nỗi sầu \\nRồi từng chiều mấy đen tim tím\\nMột mình buồn tôi bước đơn côi \\nMang trong tim nỗi nhớ một mình\\nCho trời chiều buồn mênh mang\\nLang thang mình tôi bước trên nỗi sầu\\nĐi đâu về đâu muôn lối vô định\\nĐoạn buồn biết mấy trong tôi\\nNhớ người không nhớ đến tôi\\nChiều tím tôi gọi tên ai \\nĐoạn buồn cho tôi biết mấy\\nHẹn hò em đã ngó lơ\\nChiều nay tôi đứng một mình\\nDòng người đua chen khắp chốn\\nNhìn hoài không thấy em sang\\nCho tôi đoạn buồn tình nhân.\\n \\n']"
            ]
          },
          "execution_count": 8,
          "metadata": {},
          "output_type": "execute_result"
        }
      ],
      "source": [
        "# Read corpus! \n",
        "corpus = read_corpus(corpus_data)\n",
        "\n",
        "# Look at some example...\n",
        "corpus[2]\n",
        "\n",
        "# For some reason (only in Google Colab), this cell might need to be stopped\n",
        "# for the first run, then run again. "
      ]
    },
    {
      "cell_type": "markdown",
      "id": "f30fff65",
      "metadata": {
        "id": "f30fff65",
        "papermill": {
          "duration": 0.017511,
          "end_time": "2022-03-14T14:06:57.614011",
          "exception": false,
          "start_time": "2022-03-14T14:06:57.596500",
          "status": "completed"
        },
        "tags": []
      },
      "source": [
        "# BM25 Implementation"
      ]
    },
    {
      "cell_type": "code",
      "execution_count": null,
      "id": "a3770f6e",
      "metadata": {
        "execution": {
          "iopub.execute_input": "2022-03-14T14:06:57.652013Z",
          "iopub.status.busy": "2022-03-14T14:06:57.651107Z",
          "iopub.status.idle": "2022-03-14T14:07:17.512599Z",
          "shell.execute_reply": "2022-03-14T14:07:17.511602Z",
          "shell.execute_reply.started": "2022-03-14T13:58:18.222777Z"
        },
        "id": "a3770f6e",
        "outputId": "4902dd71-ea1f-4208-fa65-c331bd4f6b62",
        "papermill": {
          "duration": 19.88125,
          "end_time": "2022-03-14T14:07:17.512786",
          "exception": false,
          "start_time": "2022-03-14T14:06:57.631536",
          "status": "completed"
        },
        "tags": []
      },
      "outputs": [
        {
          "name": "stdout",
          "output_type": "stream",
          "text": [
            "Collecting underthesea\r\n",
            "  Downloading underthesea-1.3.4-py3-none-any.whl (7.6 MB)\r\n",
            "     |████████████████████████████████| 7.6 MB 555 kB/s            \r\n",
            "\u001b[?25hRequirement already satisfied: PyYAML in /opt/conda/lib/python3.7/site-packages (from underthesea) (6.0)\r\n",
            "Requirement already satisfied: requests in /opt/conda/lib/python3.7/site-packages (from underthesea) (2.26.0)\r\n",
            "Requirement already satisfied: joblib in /opt/conda/lib/python3.7/site-packages (from underthesea) (1.1.0)\r\n",
            "Requirement already satisfied: unidecode in /opt/conda/lib/python3.7/site-packages (from underthesea) (1.3.2)\r\n",
            "Collecting underthesea-core==0.0.4_alpha.10\r\n",
            "  Downloading underthesea_core-0.0.4_alpha.10-cp37-cp37m-manylinux2010_x86_64.whl (581 kB)\r\n",
            "     |████████████████████████████████| 581 kB 44.2 MB/s            \r\n",
            "\u001b[?25hRequirement already satisfied: Click>=6.0 in /opt/conda/lib/python3.7/site-packages (from underthesea) (8.0.3)\r\n",
            "Requirement already satisfied: scikit-learn in /opt/conda/lib/python3.7/site-packages (from underthesea) (1.0.1)\r\n",
            "Requirement already satisfied: tqdm in /opt/conda/lib/python3.7/site-packages (from underthesea) (4.62.3)\r\n",
            "Collecting python-crfsuite>=0.9.6\r\n",
            "  Downloading python_crfsuite-0.9.7-cp37-cp37m-manylinux1_x86_64.whl (743 kB)\r\n",
            "     |████████████████████████████████| 743 kB 42.1 MB/s            \r\n",
            "\u001b[?25hRequirement already satisfied: nltk in /opt/conda/lib/python3.7/site-packages (from underthesea) (3.2.4)\r\n",
            "Requirement already satisfied: importlib-metadata in /opt/conda/lib/python3.7/site-packages (from Click>=6.0->underthesea) (4.11.2)\r\n",
            "Requirement already satisfied: six in /opt/conda/lib/python3.7/site-packages (from nltk->underthesea) (1.15.0)\r\n",
            "Requirement already satisfied: idna<4,>=2.5 in /opt/conda/lib/python3.7/site-packages (from requests->underthesea) (3.1)\r\n",
            "Requirement already satisfied: urllib3<1.27,>=1.21.1 in /opt/conda/lib/python3.7/site-packages (from requests->underthesea) (1.26.7)\r\n",
            "Requirement already satisfied: charset-normalizer~=2.0.0 in /opt/conda/lib/python3.7/site-packages (from requests->underthesea) (2.0.9)\r\n",
            "Requirement already satisfied: certifi>=2017.4.17 in /opt/conda/lib/python3.7/site-packages (from requests->underthesea) (2021.10.8)\r\n",
            "Requirement already satisfied: threadpoolctl>=2.0.0 in /opt/conda/lib/python3.7/site-packages (from scikit-learn->underthesea) (3.0.0)\r\n",
            "Requirement already satisfied: scipy>=1.1.0 in /opt/conda/lib/python3.7/site-packages (from scikit-learn->underthesea) (1.7.3)\r\n",
            "Requirement already satisfied: numpy>=1.14.6 in /opt/conda/lib/python3.7/site-packages (from scikit-learn->underthesea) (1.19.5)\r\n",
            "Requirement already satisfied: typing-extensions>=3.6.4 in /opt/conda/lib/python3.7/site-packages (from importlib-metadata->Click>=6.0->underthesea) (3.7.4.3)\r\n",
            "Requirement already satisfied: zipp>=0.5 in /opt/conda/lib/python3.7/site-packages (from importlib-metadata->Click>=6.0->underthesea) (3.6.0)\r\n",
            "Installing collected packages: underthesea-core, python-crfsuite, underthesea\r\n",
            "Successfully installed python-crfsuite-0.9.7 underthesea-1.3.4 underthesea-core-0.0.4a10\r\n",
            "\u001b[33mWARNING: Running pip as the 'root' user can result in broken permissions and conflicting behaviour with the system package manager. It is recommended to use a virtual environment instead: https://pip.pypa.io/warnings/venv\u001b[0m\r\n",
            "Collecting pyvi\r\n",
            "  Downloading pyvi-0.1.1-py2.py3-none-any.whl (8.5 MB)\r\n",
            "     |████████████████████████████████| 8.5 MB 549 kB/s            \r\n",
            "\u001b[?25hCollecting sklearn-crfsuite\r\n",
            "  Downloading sklearn_crfsuite-0.3.6-py2.py3-none-any.whl (12 kB)\r\n",
            "Requirement already satisfied: scikit-learn in /opt/conda/lib/python3.7/site-packages (from pyvi) (1.0.1)\r\n",
            "Requirement already satisfied: joblib>=0.11 in /opt/conda/lib/python3.7/site-packages (from scikit-learn->pyvi) (1.1.0)\r\n",
            "Requirement already satisfied: numpy>=1.14.6 in /opt/conda/lib/python3.7/site-packages (from scikit-learn->pyvi) (1.19.5)\r\n",
            "Requirement already satisfied: threadpoolctl>=2.0.0 in /opt/conda/lib/python3.7/site-packages (from scikit-learn->pyvi) (3.0.0)\r\n",
            "Requirement already satisfied: scipy>=1.1.0 in /opt/conda/lib/python3.7/site-packages (from scikit-learn->pyvi) (1.7.3)\r\n",
            "Requirement already satisfied: six in /opt/conda/lib/python3.7/site-packages (from sklearn-crfsuite->pyvi) (1.15.0)\r\n",
            "Requirement already satisfied: python-crfsuite>=0.8.3 in /opt/conda/lib/python3.7/site-packages (from sklearn-crfsuite->pyvi) (0.9.7)\r\n",
            "Requirement already satisfied: tqdm>=2.0 in /opt/conda/lib/python3.7/site-packages (from sklearn-crfsuite->pyvi) (4.62.3)\r\n",
            "Requirement already satisfied: tabulate in /opt/conda/lib/python3.7/site-packages (from sklearn-crfsuite->pyvi) (0.8.9)\r\n",
            "Installing collected packages: sklearn-crfsuite, pyvi\r\n",
            "Successfully installed pyvi-0.1.1 sklearn-crfsuite-0.3.6\r\n",
            "\u001b[33mWARNING: Running pip as the 'root' user can result in broken permissions and conflicting behaviour with the system package manager. It is recommended to use a virtual environment instead: https://pip.pypa.io/warnings/venv\u001b[0m\r\n"
          ]
        }
      ],
      "source": [
        "!pip install underthesea\n",
        "!pip install pyvi"
      ]
    },
    {
      "cell_type": "code",
      "execution_count": null,
      "id": "0584c6bd",
      "metadata": {
        "execution": {
          "iopub.execute_input": "2022-03-14T14:07:17.592478Z",
          "iopub.status.busy": "2022-03-14T14:07:17.591722Z",
          "iopub.status.idle": "2022-03-14T14:08:01.902298Z",
          "shell.execute_reply": "2022-03-14T14:08:01.901637Z",
          "shell.execute_reply.started": "2022-03-14T13:58:39.515204Z"
        },
        "id": "0584c6bd",
        "outputId": "8e6ed668-2c44-485d-cf98-2c0c2b3f68da",
        "papermill": {
          "duration": 44.353209,
          "end_time": "2022-03-14T14:08:01.902442",
          "exception": false,
          "start_time": "2022-03-14T14:07:17.549233",
          "status": "completed"
        },
        "tags": []
      },
      "outputs": [
        {
          "name": "stderr",
          "output_type": "stream",
          "text": [
            "100%|██████████| 2335/2335 [00:43<00:00, 54.24it/s]\n"
          ]
        }
      ],
      "source": [
        "# Tokenize the corpus\n",
        "from underthesea import word_tokenize\n",
        "\n",
        "tokenized_corpus = []\n",
        "for doc in tqdm(corpus):\n",
        "  tokenize_lyric = word_tokenize(doc[-1]) \n",
        "  tokenize_lyric.append(f\"-->{doc[0]}\")\n",
        "  tokenized_corpus.append(tokenize_lyric)"
      ]
    },
    {
      "cell_type": "code",
      "execution_count": null,
      "id": "79ebb8db",
      "metadata": {
        "execution": {
          "iopub.execute_input": "2022-03-14T14:08:02.164820Z",
          "iopub.status.busy": "2022-03-14T14:08:02.163946Z",
          "iopub.status.idle": "2022-03-14T14:08:02.167890Z",
          "shell.execute_reply": "2022-03-14T14:08:02.167316Z",
          "shell.execute_reply.started": "2022-03-14T13:59:26.550847Z"
        },
        "id": "79ebb8db",
        "outputId": "a98b4220-983d-45af-e246-65e811b319da",
        "papermill": {
          "duration": 0.138801,
          "end_time": "2022-03-14T14:08:02.168038",
          "exception": false,
          "start_time": "2022-03-14T14:08:02.029237",
          "status": "completed"
        },
        "tags": []
      },
      "outputs": [
        {
          "data": {
            "text/plain": [
              "['Từ',\n",
              " 'ngày',\n",
              " 'con',\n",
              " 'ra',\n",
              " 'đi',\n",
              " 'Cha',\n",
              " 'lòng',\n",
              " 'buồn',\n",
              " 'thương nhớ',\n",
              " 'Cô đơn',\n",
              " 'và',\n",
              " 'sầu muộn',\n",
              " 'Bao',\n",
              " 'ngày tháng',\n",
              " 'mong chờ',\n",
              " 'Từ',\n",
              " 'ngày',\n",
              " 'con',\n",
              " 'ra',\n",
              " 'đi',\n",
              " 'Tới',\n",
              " 'thời gian',\n",
              " 'bây giờ',\n",
              " 'Thấm thoát',\n",
              " 'mười',\n",
              " 'hai',\n",
              " 'năm',\n",
              " 'chẵn',\n",
              " 'Cha',\n",
              " 'thường',\n",
              " 'đứng',\n",
              " 'ngồi',\n",
              " 'ngẩn ngơ',\n",
              " '[',\n",
              " 'ĐK',\n",
              " ':',\n",
              " ']',\n",
              " 'Mẹ con',\n",
              " 'không',\n",
              " 'còn',\n",
              " 'nữa',\n",
              " 'Đi',\n",
              " 'rồi',\n",
              " 'quên',\n",
              " 'từ',\n",
              " 'giã',\n",
              " 'Cha',\n",
              " 'một mình',\n",
              " 'thui thủi',\n",
              " 'Lạnh giá',\n",
              " 'và',\n",
              " 'đơn côi',\n",
              " 'Nay',\n",
              " 'con',\n",
              " 'ở',\n",
              " 'phương',\n",
              " 'xa',\n",
              " 'Đừng',\n",
              " 'quên',\n",
              " 'nơi',\n",
              " 'quê',\n",
              " 'nhà',\n",
              " 'Vẫn',\n",
              " 'còn',\n",
              " 'người',\n",
              " 'trông đợi',\n",
              " 'Người',\n",
              " 'ấy',\n",
              " 'là',\n",
              " 'cha',\n",
              " 'già',\n",
              " 'Cha',\n",
              " 'chờ',\n",
              " 'con',\n",
              " 'trong',\n",
              " 'hấp hối',\n",
              " 'Lá',\n",
              " 'thư',\n",
              " 'cuối cùng',\n",
              " 'con',\n",
              " 'ơi',\n",
              " 'Thư',\n",
              " 'này',\n",
              " 'mong',\n",
              " 'con',\n",
              " 'nhận',\n",
              " 'được',\n",
              " 'Thương',\n",
              " 'con',\n",
              " 'vất vả',\n",
              " 'đơn côi',\n",
              " 'Mưa',\n",
              " 'lạnh',\n",
              " 'ngoài trời',\n",
              " 'đang',\n",
              " 'rơi',\n",
              " 'Gắng',\n",
              " 'thêm',\n",
              " 'một chút',\n",
              " 'tàn hơi',\n",
              " 'Cha',\n",
              " 'đây',\n",
              " 'nhắn',\n",
              " 'lại',\n",
              " 'một',\n",
              " 'lời Chúc',\n",
              " 'con',\n",
              " 'hạnh phúc',\n",
              " 'trọn',\n",
              " 'đời',\n",
              " 'trở lại',\n",
              " '[ ĐK',\n",
              " ':',\n",
              " '] Thư',\n",
              " 'này',\n",
              " 'cuối cùng',\n",
              " 'con',\n",
              " 'ơi',\n",
              " 'Mẹ con',\n",
              " 'đưa',\n",
              " 'tay',\n",
              " 'vẫy gọi',\n",
              " 'Bao',\n",
              " 'năm',\n",
              " 'cha',\n",
              " 'đây',\n",
              " 'trông đợi',\n",
              " 'Mẹ',\n",
              " 'đón',\n",
              " 'cha',\n",
              " 'về',\n",
              " 'chung',\n",
              " 'đôi',\n",
              " 'Nhớ lời',\n",
              " 'cha',\n",
              " 'dặn',\n",
              " 'con',\n",
              " 'ơi',\n",
              " 'Hiến',\n",
              " 'mình',\n",
              " 'giúp',\n",
              " 'đời',\n",
              " 'yên vui',\n",
              " 'Dù',\n",
              " 'xa cách biệt',\n",
              " 'phương trời',\n",
              " 'Chớ',\n",
              " 'quên',\n",
              " 'tổ quốc',\n",
              " 'giống',\n",
              " 'nòi',\n",
              " '-->0001']"
            ]
          },
          "execution_count": 11,
          "metadata": {},
          "output_type": "execute_result"
        }
      ],
      "source": [
        "tokenized_corpus[1]"
      ]
    },
    {
      "cell_type": "code",
      "execution_count": null,
      "id": "96ee3f00",
      "metadata": {
        "execution": {
          "iopub.execute_input": "2022-03-14T14:08:02.437376Z",
          "iopub.status.busy": "2022-03-14T14:08:02.430979Z",
          "iopub.status.idle": "2022-03-14T14:08:02.711337Z",
          "shell.execute_reply": "2022-03-14T14:08:02.711813Z",
          "shell.execute_reply.started": "2022-03-14T13:59:26.563015Z"
        },
        "id": "96ee3f00",
        "papermill": {
          "duration": 0.415522,
          "end_time": "2022-03-14T14:08:02.711999",
          "exception": false,
          "start_time": "2022-03-14T14:08:02.296477",
          "status": "completed"
        },
        "tags": []
      },
      "outputs": [],
      "source": [
        "# Instantiate BM25 object from the tokenized corpus\n",
        "bm25 = BM25Okapi(tokenized_corpus)"
      ]
    },
    {
      "cell_type": "code",
      "execution_count": null,
      "id": "160149d3",
      "metadata": {
        "execution": {
          "iopub.execute_input": "2022-03-14T14:08:02.974022Z",
          "iopub.status.busy": "2022-03-14T14:08:02.973357Z",
          "iopub.status.idle": "2022-03-14T14:08:02.974576Z",
          "shell.execute_reply": "2022-03-14T14:08:02.975134Z",
          "shell.execute_reply.started": "2022-03-14T13:59:26.954628Z"
        },
        "id": "160149d3",
        "papermill": {
          "duration": 0.135926,
          "end_time": "2022-03-14T14:08:02.975308",
          "exception": false,
          "start_time": "2022-03-14T14:08:02.839382",
          "status": "completed"
        },
        "tags": []
      },
      "outputs": [],
      "source": [
        "#hàm a nhận một truy vấn chuỗi và đánh số `n` kết quả bắt buộc, \n",
        "#và trả về kết quả có liên quan nhất` n` từ kho dữ liệu của chúng ta:\n",
        "def bm25okapi_search(tokenized_query, bm25, corpus, n_results = 1):\n",
        "    \"\"\"\n",
        "    Function that takes a tokenized query and prints the first 100 words of the \n",
        "    n_results most relevant results found in the corpus, based on the BM25\n",
        "    method.\n",
        "    \n",
        "    Parameters\n",
        "    ----------\n",
        "    @param tokenized_query: list, array-like\n",
        "        A valid list containing the tokenized query.\n",
        "    @param bm25: BM25 object,\n",
        "        A valid object of type BM25 (BM25Okapi or BM25Plus) from the library\n",
        "        `rank-bm25`, initialized with a valid corpus.\n",
        "    @param corpus: list, array-like\n",
        "        A valid list containing the corpus from which the BM25 object has been \n",
        "        initialized. As returned from function read_corpus().\n",
        "    @param n_results: int, default = 1\n",
        "        The number of top results to print.\n",
        "    \"\"\"\n",
        "    \n",
        "    # We skip checking validity of arguments for now... We assume the user \n",
        "    # knows what they're doing.\n",
        "    \n",
        "    # Get top results for the query\n",
        "    top_results = bm25.get_top_n(tokenized_query, corpus, n = n_results)\n",
        "    \n",
        "    # Take words from each result\n",
        "    top_results_id = [' '.join(top_result).split(\"-->\")[-1] \n",
        "                             for top_result in top_results]\n",
        "    \n",
        "    # Return results\n",
        "    return top_results_id"
      ]
    },
    {
      "cell_type": "code",
      "execution_count": null,
      "id": "89425e7c",
      "metadata": {
        "execution": {
          "iopub.execute_input": "2022-03-14T14:08:03.230794Z",
          "iopub.status.busy": "2022-03-14T14:08:03.230219Z",
          "iopub.status.idle": "2022-03-14T14:08:03.234558Z",
          "shell.execute_reply": "2022-03-14T14:08:03.235158Z",
          "shell.execute_reply.started": "2022-03-14T13:59:26.963891Z"
        },
        "id": "89425e7c",
        "outputId": "3fdefb93-8b06-4ddd-f710-076329b631f8",
        "papermill": {
          "duration": 0.133914,
          "end_time": "2022-03-14T14:08:03.235330",
          "exception": false,
          "start_time": "2022-03-14T14:08:03.101416",
          "status": "completed"
        },
        "tags": []
      },
      "outputs": [
        {
          "data": {
            "text/plain": [
              "{'query_id': '000', 'query': 'cho qua bao năm mộng buon quen dấu'}"
            ]
          },
          "execution_count": 14,
          "metadata": {},
          "output_type": "execute_result"
        }
      ],
      "source": [
        "# check queries\n",
        "queries_test[0]"
      ]
    },
    {
      "cell_type": "markdown",
      "id": "03a2bb5d",
      "metadata": {
        "id": "03a2bb5d",
        "papermill": {
          "duration": 0.127039,
          "end_time": "2022-03-14T14:08:03.490543",
          "exception": false,
          "start_time": "2022-03-14T14:08:03.363504",
          "status": "completed"
        },
        "tags": []
      },
      "source": [
        "# Process & Export file submission"
      ]
    },
    {
      "cell_type": "code",
      "execution_count": null,
      "id": "57b42871",
      "metadata": {
        "execution": {
          "iopub.execute_input": "2022-03-14T14:08:03.750195Z",
          "iopub.status.busy": "2022-03-14T14:08:03.749077Z",
          "iopub.status.idle": "2022-03-14T14:08:08.694027Z",
          "shell.execute_reply": "2022-03-14T14:08:08.694513Z",
          "shell.execute_reply.started": "2022-03-14T13:59:26.979300Z"
        },
        "id": "57b42871",
        "outputId": "1716f5ec-fb2d-4b9d-cd84-711027226984",
        "papermill": {
          "duration": 5.078404,
          "end_time": "2022-03-14T14:08:08.694677",
          "exception": false,
          "start_time": "2022-03-14T14:08:03.616273",
          "status": "completed"
        },
        "tags": []
      },
      "outputs": [
        {
          "name": "stderr",
          "output_type": "stream",
          "text": [
            "100%|██████████| 500/500 [00:04<00:00, 106.41it/s]\n"
          ]
        }
      ],
      "source": [
        "import csv\n",
        "from pyvi import ViUtils\n",
        "import re\n",
        "# trong phần output\n",
        "with open(\"submission.csv\", \"w\") as csv_writer:\n",
        "  fieldnames = ['query_id', 'song_id']\n",
        "  writer = csv.DictWriter(csv_writer, fieldnames=fieldnames)\n",
        "  writer.writeheader()\n",
        "  for ques in tqdm(queries_test):\n",
        "    preprocess_query = \" \".join(ques[\"query\"].lower().replace(\"/\", \"\").strip(\"\").split())\n",
        "    tokenized_query = word_tokenize(preprocess_query)\n",
        "    results = bm25okapi_search(tokenized_query = tokenized_query, bm25 = bm25, corpus = tokenized_corpus, n_results = 10)\n",
        "    writer.writerow({'query_id': ques[\"query_id\"], \"song_id\": \" \".join(results)})"
      ]
    }
  ],
  "metadata": {
    "kernelspec": {
      "display_name": "Python 3",
      "language": "python",
      "name": "python3"
    },
    "language_info": {
      "codemirror_mode": {
        "name": "ipython",
        "version": 3
      },
      "file_extension": ".py",
      "mimetype": "text/x-python",
      "name": "python",
      "nbconvert_exporter": "python",
      "pygments_lexer": "ipython3",
      "version": "3.7.12"
    },
    "papermill": {
      "default_parameters": {},
      "duration": 138.714533,
      "end_time": "2022-03-14T14:08:12.304815",
      "environment_variables": {},
      "exception": null,
      "input_path": "__notebook__.ipynb",
      "output_path": "__notebook__.ipynb",
      "parameters": {},
      "start_time": "2022-03-14T14:05:53.590282",
      "version": "2.3.3"
    },
    "colab": {
      "name": "baseliene.ipynb",
      "provenance": [],
      "include_colab_link": true
    }
  },
  "nbformat": 4,
  "nbformat_minor": 5
}